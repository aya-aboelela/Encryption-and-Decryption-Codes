{
 "cells": [
  {
   "cell_type": "code",
   "execution_count": 46,
   "metadata": {},
   "outputs": [
    {
     "name": "stdout",
     "output_type": "stream",
     "text": [
      "%6)/=2;9)=\n",
      "helloworld\n"
     ]
    }
   ],
   "source": [
    "ptext='helloworld'\n",
    "key='MSECRETKEY'\n",
    "chtext=''\n",
    "if len(ptext)==len(key):\n",
    "    for i in range(len(ptext)):\n",
    "        decfc=ord(ptext[i])\n",
    "        decfk=ord(key[i])\n",
    "        decfch=(decfc^decfk)\n",
    "        chtext+=chr(decfch)\n",
    "    print(chtext)\n",
    "else:\n",
    "    print('the length of Key must be same length of')\n",
    "    \n",
    "ptext=''\n",
    "if len(chtext)==len(key):\n",
    "    for i in range(len(chtext)):\n",
    "        decfc=ord(chtext[i])\n",
    "        decfk=ord(key[i])\n",
    "        decfch=(decfc^decfk)\n",
    "        ptext+=chr(decfch)\n",
    "    print(ptext)\n",
    "else:\n",
    "    print('the length of Key must be same length of')"
   ]
  }
 ],
 "metadata": {
  "kernelspec": {
   "display_name": "Python 3",
   "language": "python",
   "name": "python3"
  },
  "language_info": {
   "codemirror_mode": {
    "name": "ipython",
    "version": 3
   },
   "file_extension": ".py",
   "mimetype": "text/x-python",
   "name": "python",
   "nbconvert_exporter": "python",
   "pygments_lexer": "ipython3",
   "version": "3.6.5"
  }
 },
 "nbformat": 4,
 "nbformat_minor": 2
}
