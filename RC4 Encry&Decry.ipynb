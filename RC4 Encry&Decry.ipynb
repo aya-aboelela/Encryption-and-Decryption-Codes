{
 "cells": [
  {
   "cell_type": "code",
   "execution_count": 75,
   "id": "d64fcde4",
   "metadata": {},
   "outputs": [
    {
     "name": "stdout",
     "output_type": "stream",
     "text": [
      "Encrypted_text :  ",
      "S¾pí¡É@§ß\n"
     ]
    }
   ],
   "source": [
    "#RC4 Encryption\n",
    "\n",
    "#Step 1 (Initialize a vector S of 256 bytes)\n",
    "S=list(range(256))\n",
    "\n",
    "#Step 2 \n",
    "key='secret'\n",
    "chtext=''\n",
    "T=[]\n",
    "for i in range(256) :\n",
    "    index=(i%len(key))\n",
    "    ordofch=ord(key[index])\n",
    "    T.append(ordofch)\n",
    "\n",
    "#Step 3\n",
    "j=0\n",
    "for i in range(256):\n",
    "    j=(j+S[i]+T[i])%256\n",
    "    tmp=S[i] #Swap\n",
    "    S[i]=S[j]\n",
    "    S[j] =tmp\n",
    "\n",
    "Plain_txt='hello world'\n",
    " \n",
    "#Step 4 \n",
    "j=0\n",
    "new_Key=[]\n",
    "for i in range(len(Plain_txt)):\n",
    "    i = (i + 1)% 256;   \n",
    "    j=(j+S[i])%256;\n",
    "    tmp=S[i] #Swap\n",
    "    S[i]=S[j]\n",
    "    S[j] =tmp\n",
    "    t = (S[i] + S[j])%256;\n",
    "    k = S[t];\n",
    "    new_Key.append(k)\n",
    "    \n",
    "#Step 5 \n",
    "for i in range(len(Plain_txt)):\n",
    "    ch=ord(Plain_txt[i]) ^ new_Key[i] #Cipher_Dec\n",
    "    chtext+=chr(ch)\n",
    "    \n",
    "print('Encrypted_text : ',chtext)"
   ]
  },
  {
   "cell_type": "code",
   "execution_count": 62,
   "id": "1e3e6629",
   "metadata": {},
   "outputs": [
    {
     "name": "stdout",
     "output_type": "stream",
     "text": [
      "['\\x85S¾pí\\x84¡É@§ß']\n"
     ]
    }
   ],
   "source": [
    "print([chtext])"
   ]
  },
  {
   "cell_type": "code",
   "execution_count": 77,
   "id": "af240657",
   "metadata": {},
   "outputs": [
    {
     "name": "stdout",
     "output_type": "stream",
     "text": [
      "Decrypted_text : hello world\n"
     ]
    }
   ],
   "source": [
    "#RC4 Decryption\n",
    "\n",
    "#Step 1\n",
    "S=list(range(256))\n",
    "\n",
    "#Step 2\n",
    "key='secret'\n",
    "Plain_txt=''\n",
    "T=[]\n",
    "for i in range(256) :\n",
    "    index=(i%len(key))\n",
    "    ordofch=ord(key[index])\n",
    "    T.append(ordofch)\n",
    "\n",
    "#Step 3\n",
    "j=0\n",
    "for i in range(256):\n",
    "    j=(j+S[i]+T[i])%256\n",
    "    tmp=S[i] #Swap\n",
    "    S[i]=S[j]\n",
    "    S[j] =tmp\n",
    "\n",
    "chtext='",
    "S¾pí¡É@§ß'\n",
    " \n",
    "#Step 4\n",
    "j=0\n",
    "new_Key=[]\n",
    "for i in range(len(chtext)):\n",
    "    i = (i + 1)% 256;   \n",
    "    j=(j+S[i])%256;\n",
    "    tmp=S[i] #Swap\n",
    "    S[i]=S[j]\n",
    "    S[j] =tmp\n",
    "    t = (S[i] + S[j])%256;\n",
    "    k = S[t];\n",
    "    new_Key.append(k)\n",
    "#Step 5   \n",
    "for i in range(len(chtext)):\n",
    "    ch=ord(chtext[i]) ^ new_Key[i] #Plain_Dec\n",
    "    Plain_txt+=chr(ch)\n",
    "print('Decrypted_text :',Plain_txt)"
   ]
  },
  {
   "cell_type": "code",
   "execution_count": null,
   "id": "ca4ab99c",
   "metadata": {},
   "outputs": [],
   "source": []
  }
 ],
 "metadata": {
  "kernelspec": {
   "display_name": "Python 3 (ipykernel)",
   "language": "python",
   "name": "python3"
  },
  "language_info": {
   "codemirror_mode": {
    "name": "ipython",
    "version": 3
   },
   "file_extension": ".py",
   "mimetype": "text/x-python",
   "name": "python",
   "nbconvert_exporter": "python",
   "pygments_lexer": "ipython3",
   "version": "3.9.7"
  }
 },
 "nbformat": 4,
 "nbformat_minor": 5
}
