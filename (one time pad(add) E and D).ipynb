{
 "cells": [
  {
   "cell_type": "code",
   "execution_count": 13,
   "metadata": {},
   "outputs": [
    {
     "name": "stdout",
     "output_type": "stream",
     "text": [
      "twpnfahbpb\n"
     ]
    }
   ],
   "source": [
    "chars='abcdefghijklmnopqrstuvwxyz'\n",
    "ptext='helloworld'\n",
    "key='MSECRETKEY'\n",
    "ptext=(ptext.lower())\n",
    "key=(key.lower())\n",
    "chtext=''\n",
    "if len(ptext)==len(key):\n",
    "    for i in range(len(ptext)):\n",
    "        for j in chars:\n",
    "            if ptext[i]==j:\n",
    "                indfc=chars.find(j)\n",
    "            if key[i]==j:\n",
    "                indfk=chars.find(j)\n",
    "        indfch=(indfc+indfk)%26\n",
    "        chtext+=chars[indfch]\n",
    "    print(chtext)\n",
    "else:\n",
    "    print('the length of Key must be same length of')"
   ]
  },
  {
   "cell_type": "code",
   "execution_count": 14,
   "metadata": {},
   "outputs": [
    {
     "name": "stdout",
     "output_type": "stream",
     "text": [
      "helloworld\n"
     ]
    }
   ],
   "source": [
    "pltext=''\n",
    "if len(chtext)==len(key):\n",
    "    for i in range(len(chtext)):\n",
    "        for j in chars:\n",
    "            if chtext[i]==j:\n",
    "                indfc=chars.find(j)\n",
    "            if key[i]==j:\n",
    "                indfk=chars.find(j)\n",
    "        indfch=(indfc-indfk)\n",
    "        pltext+=chars[indfch]\n",
    "    print(pltext)\n",
    "else:\n",
    "    print('the length of Key must be same length of')"
   ]
  },
  {
   "cell_type": "code",
   "execution_count": 20,
   "metadata": {},
   "outputs": [
    {
     "name": "stdout",
     "output_type": "stream",
     "text": [
      "shteu\n",
      "sahar\n"
     ]
    }
   ],
   "source": [
    "chars='abcdefghijklmnopqrstuvwxyz'\n",
    "ptext='sahar'\n",
    "key='ahmed'\n",
    "chtext=''\n",
    "if len(ptext)==len(key):\n",
    "    for i in range(len(ptext)):\n",
    "        for j in chars:\n",
    "            if ptext[i]==j:\n",
    "                indfc=chars.find(j)\n",
    "            if key[i]==j:\n",
    "                indfk=chars.find(j)\n",
    "        indfch=(indfc+indfk)%26\n",
    "        chtext+=chars[indfch]\n",
    "    print(chtext)\n",
    "else:\n",
    "    print('the length of Key must be same length of')\n",
    "\n",
    "    \n",
    "pltext=''\n",
    "if len(chtext)==len(key):\n",
    "    for i in range(len(chtext)):\n",
    "        for j in chars:\n",
    "            if chtext[i]==j:\n",
    "                indfc=chars.find(j)\n",
    "            if key[i]==j:\n",
    "                indfk=chars.find(j)\n",
    "        indfch=(indfc-indfk)%26\n",
    "        pltext+=chars[indfch]\n",
    "    print(pltext)\n",
    "else:\n",
    "    print('the length of Key must be same length of')"
   ]
  },
  {
   "cell_type": "code",
   "execution_count": 22,
   "metadata": {},
   "outputs": [
    {
     "name": "stdout",
     "output_type": "stream",
     "text": [
      "µ¸±¯ÁeËº·ÅË\n",
      "hello world\n"
     ]
    }
   ],
   "source": [
    "ptext='hello world'\n",
    "key='MSECRETKEYg'\n",
    "chtext=''\n",
    "if len(ptext)==len(key):\n",
    "    for i in range(len(ptext)):\n",
    "        decfc=ord(ptext[i])\n",
    "        decfk=ord(key[i])\n",
    "        decfch=(decfc+decfk)\n",
    "        chtext+=chr(decfch)\n",
    "    print(chtext)\n",
    "else:\n",
    "    print('the length of Key must be same length of')\n",
    "    \n",
    "ptext=''\n",
    "if len(chtext)==len(key):\n",
    "    for i in range(len(chtext)):\n",
    "        decfc=ord(chtext[i])\n",
    "        decfk=ord(key[i])\n",
    "        decfch=(decfc-decfk)\n",
    "        ptext+=chr(decfch)\n",
    "    print(ptext)\n",
    "else:\n",
    "    print('the length of Key must be same length of')"
   ]
  },
  {
   "cell_type": "code",
   "execution_count": null,
   "metadata": {},
   "outputs": [],
   "source": []
  }
 ],
 "metadata": {
  "kernelspec": {
   "display_name": "Python 3",
   "language": "python",
   "name": "python3"
  },
  "language_info": {
   "codemirror_mode": {
    "name": "ipython",
    "version": 3
   },
   "file_extension": ".py",
   "mimetype": "text/x-python",
   "name": "python",
   "nbconvert_exporter": "python",
   "pygments_lexer": "ipython3",
   "version": "3.6.5"
  }
 },
 "nbformat": 4,
 "nbformat_minor": 2
}
