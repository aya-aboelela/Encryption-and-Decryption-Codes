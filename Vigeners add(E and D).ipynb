{
 "cells": [
  {
   "cell_type": "code",
   "execution_count": 3,
   "id": "2a6859fb",
   "metadata": {},
   "outputs": [
    {
     "name": "stdout",
     "output_type": "stream",
     "text": [
      "zincspgvnunaallvwhjjlfml\n",
      "helloworldjhihjesorfjois\n"
     ]
    }
   ],
   "source": [
    "chars='abcdefghijklmnopqrstuvwxyz'\n",
    "ptext='helloworldjhihjesorfjois'\n",
    "key='secret'\n",
    "chtext=''\n",
    "k=0\n",
    "for i in range(len(ptext)):\n",
    "    indfc=chars.find(ptext[i])\n",
    "    if k>(len(key)-1):\n",
    "        k=0\n",
    "    indfk=chars.find(key[k])\n",
    "    indfch=(indfc+indfk)%26\n",
    "    chtext+=chars[indfch]\n",
    "    k=k+1\n",
    "print(chtext)\n",
    "\n",
    "ptext=''\n",
    "k=0\n",
    "for i in range(len(chtext)):\n",
    "    indfc=chars.find(chtext[i])\n",
    "    if k>(len(key)-1):\n",
    "        k=0\n",
    "    indfk=chars.find(key[k])\n",
    "    indfch=(indfc-indfk)%26\n",
    "    ptext+=chars[indfch]\n",
    "    k=k+1\n",
    "print(ptext)"
   ]
  },
  {
   "cell_type": "code",
   "execution_count": null,
   "id": "d89270de",
   "metadata": {},
   "outputs": [],
   "source": []
  }
 ],
 "metadata": {
  "kernelspec": {
   "display_name": "Python 3",
   "language": "python",
   "name": "python3"
  },
  "language_info": {
   "codemirror_mode": {
    "name": "ipython",
    "version": 3
   },
   "file_extension": ".py",
   "mimetype": "text/x-python",
   "name": "python",
   "nbconvert_exporter": "python",
   "pygments_lexer": "ipython3",
   "version": "3.8.8"
  }
 },
 "nbformat": 4,
 "nbformat_minor": 5
}
