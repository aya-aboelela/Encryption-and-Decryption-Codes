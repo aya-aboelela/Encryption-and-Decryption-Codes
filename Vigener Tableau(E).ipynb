{
 "cells": [
  {
   "cell_type": "code",
   "execution_count": 4,
   "id": "95e466ae",
   "metadata": {},
   "outputs": [
    {
     "name": "stdout",
     "output_type": "stream",
     "text": [
      "zincspgvnu\n"
     ]
    }
   ],
   "source": [
    "chars='abcdefghijklmnopqrstuvwxyz'\n",
    "ptext='helloworld'\n",
    "key='secret'\n",
    "chtext=''\n",
    "\n",
    "ch_mat=[[0 for i in range(len(chars))] for j in range(len(chars))]\n",
    "for i in range(len(chars)):\n",
    "    if i==0:\n",
    "        ch_mat[i][:]=chars[0:]\n",
    "    else:\n",
    "        ch_mat[i][0:25-i]=chars[i:]\n",
    "        ch_mat[i][25-i+1:]=chars[0:i]\n",
    "\n",
    "k=0\n",
    "for i in range(len(ptext)):\n",
    "    indfc=chars.find(ptext[i])\n",
    "    if k>(len(key)-1):\n",
    "        k=0\n",
    "    indfk=chars.find(key[k])\n",
    "    chtext+=ch_mat[indfk][indfc]\n",
    "    k=k+1\n",
    "print(chtext)"
   ]
  },
  {
   "cell_type": "code",
   "execution_count": null,
   "id": "e93458dc",
   "metadata": {},
   "outputs": [],
   "source": []
  }
 ],
 "metadata": {
  "kernelspec": {
   "display_name": "Python 3",
   "language": "python",
   "name": "python3"
  },
  "language_info": {
   "codemirror_mode": {
    "name": "ipython",
    "version": 3
   },
   "file_extension": ".py",
   "mimetype": "text/x-python",
   "name": "python",
   "nbconvert_exporter": "python",
   "pygments_lexer": "ipython3",
   "version": "3.8.8"
  }
 },
 "nbformat": 4,
 "nbformat_minor": 5
}
